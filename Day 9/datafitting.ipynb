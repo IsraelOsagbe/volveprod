{
 "cells": [
  {
   "cell_type": "code",
   "execution_count": null,
   "metadata": {},
   "outputs": [],
   "source": [
    "import pandas as pd\n",
    "df = pd.read_excel(\"Volve production data.xlsx\")\n",
    "df"
   ]
  },
  {
   "cell_type": "code",
   "execution_count": 29,
   "metadata": {},
   "outputs": [
    {
     "name": "stderr",
     "output_type": "stream",
     "text": [
      "C:\\Users\\Nashat\\AppData\\Local\\Temp\\ipykernel_17352\\746158000.py:20: RankWarning: Polyfit may be poorly conditioned\n",
      "  y_fitted = create_a_fit(degree, df_filtered, \"BORE_OIL_VOL\")\n"
     ]
    },
    {
     "data": {
      "text/plain": [
       "<matplotlib.legend.Legend at 0x2c6f1986cb0>"
      ]
     },
     "execution_count": 29,
     "metadata": {},
     "output_type": "execute_result"
    }
   ],
   "source": [
    "import matplotlib.pyplot as plt\n",
    "import numpy as np\n",
    "%matplotlib qt\n",
    "def create_a_fit(degree, df, column_name):\n",
    "    x = df.index\n",
    "    y = df[column_name]\n",
    "    polyfit = np.polyfit(x, y, deg=degree) # Linear equation\n",
    "    # Creating a function for data fitting\n",
    "    polyfunc= np.poly1d(polyfit)\n",
    "    #do the prediction, data fitting\n",
    "    y_fitted = polyfunc(x)\n",
    "    return y_fitted\n",
    "\n",
    "#1st step is create x, y\n",
    "df = df[ df[\"BORE_OIL_VOL\"] > 0 ]\n",
    "df_filtered = df[  df[\"WELL_BORE_CODE\"] == \"NO 15/9-F-1 C\" ] \n",
    "\n",
    "lst_of_degree = [1,2,3,4,5,6,10,15,20]\n",
    "for degree in lst_of_degree:\n",
    "    y_fitted = create_a_fit(degree, df_filtered, \"BORE_OIL_VOL\")\n",
    "    label_fitting = \"Fitted Model\"+\" Degree = \"+ str(degree)\n",
    "    plt.plot(df[\"DATEPRD\"], y_fitted, lw=2,label=label_fitting)\n",
    "\n",
    "plt.scatter(df[\"DATEPRD\"], df[\"BORE_OIL_VOL\"], label=\"Historical Data\")\n",
    "plt.legend()\n"
   ]
  },
  {
   "cell_type": "code",
   "execution_count": 19,
   "metadata": {},
   "outputs": [
    {
     "data": {
      "text/plain": [
       "array(['NO 15/9-F-1 C', 'NO 15/9-F-11 H', 'NO 15/9-F-12 H',\n",
       "       'NO 15/9-F-14 H', 'NO 15/9-F-15 D', 'NO 15/9-F-5 AH'], dtype=object)"
      ]
     },
     "execution_count": 19,
     "metadata": {},
     "output_type": "execute_result"
    }
   ],
   "source": [
    "df[\"WELL_BORE_CODE\"].unique()"
   ]
  },
  {
   "cell_type": "code",
   "execution_count": 7,
   "metadata": {},
   "outputs": [
    {
     "data": {
      "text/plain": [
       "Index(['DATEPRD', 'WELL_BORE_CODE', 'NPD_WELL_BORE_CODE', 'NPD_WELL_BORE_NAME',\n",
       "       'NPD_FIELD_CODE', 'NPD_FIELD_NAME', 'NPD_FACILITY_CODE',\n",
       "       'NPD_FACILITY_NAME', 'ON_STREAM_HRS', 'AVG_DOWNHOLE_PRESSURE',\n",
       "       'AVG_DOWNHOLE_TEMPERATURE', 'AVG_DP_TUBING', 'AVG_ANNULUS_PRESS',\n",
       "       'AVG_CHOKE_SIZE_P', 'AVG_CHOKE_UOM', 'AVG_WHP_P', 'AVG_WHT_P',\n",
       "       'DP_CHOKE_SIZE', 'BORE_OIL_VOL', 'BORE_GAS_VOL', 'BORE_WAT_VOL',\n",
       "       'BORE_WI_VOL', 'FLOW_KIND', 'WELL_TYPE'],\n",
       "      dtype='object')"
      ]
     },
     "execution_count": 7,
     "metadata": {},
     "output_type": "execute_result"
    }
   ],
   "source": [
    "df.columns"
   ]
  }
 ],
 "metadata": {
  "kernelspec": {
   "display_name": "base",
   "language": "python",
   "name": "python3"
  },
  "language_info": {
   "codemirror_mode": {
    "name": "ipython",
    "version": 3
   },
   "file_extension": ".py",
   "mimetype": "text/x-python",
   "name": "python",
   "nbconvert_exporter": "python",
   "pygments_lexer": "ipython3",
   "version": "3.10.9"
  },
  "orig_nbformat": 4
 },
 "nbformat": 4,
 "nbformat_minor": 2
}
